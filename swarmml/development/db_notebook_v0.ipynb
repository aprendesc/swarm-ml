{
 "cells": [
  {
   "cell_type": "markdown",
   "metadata": {
    "application/vnd.databricks.v1+cell": {
     "cellMetadata": {},
     "inputWidgets": {},
     "nuid": "4a55bb29-06ad-46b0-93b0-8eecd5ea09f5",
     "showTitle": false,
     "tableResultSettingsMap": {},
     "title": ""
    }
   },
   "source": [
    "# SWARM ML notebook"
   ]
  },
  {
   "cell_type": "code",
   "execution_count": 0,
   "metadata": {
    "application/vnd.databricks.v1+cell": {
     "cellMetadata": {},
     "inputWidgets": {},
     "nuid": "105c14c8-44a2-4c39-ab2f-ffdf0f675507",
     "showTitle": false,
     "tableResultSettingsMap": {},
     "title": ""
    }
   },
   "outputs": [],
   "source": [
    "import sys\n",
    "import os\n",
    "path = '/Workspace/Repos/alejandropca@ext.inditex.com'\n",
    "sys.path.extend([os.path.join(path, 'eigenlib'), os.path.join(path, 'swarm-intelligence'), os.path.join(path, 'swarm-ml'), os.path.join(path, 'swarm-automations'),])"
   ]
  },
  {
   "cell_type": "code",
   "execution_count": 0,
   "metadata": {
    "application/vnd.databricks.v1+cell": {
     "cellMetadata": {
      "byteLimit": 2048000,
      "rowLimit": 10000
     },
     "inputWidgets": {},
     "nuid": "8fbe6bbf-d48b-4477-b4ad-3397b7941eda",
     "showTitle": false,
     "tableResultSettingsMap": {},
     "title": ""
    }
   },
   "outputs": [],
   "source": [
    "from swarmml.main import MainClass\n",
    "from swarmml.config import test_config as config\n",
    "main = MainClass(config)\n",
    "#main.ETL(config)\n",
    "#main.train(config)\n",
    "main.eval(config)\n",
    "#main.hparam_tuning(config)\n",
    "#main.predict(config)\n",
    "#main.run_frontend(config)\n"
   ]
  }
 ],
 "metadata": {
  "application/vnd.databricks.v1+notebook": {
   "computePreferences": null,
   "dashboards": [],
   "environmentMetadata": {
    "base_environment": "",
    "environment_version": "2"
   },
   "inputWidgetPreferences": null,
   "language": "python",
   "notebookMetadata": {
    "pythonIndentUnit": 4
   },
   "notebookName": "db_notebook_v0",
   "widgets": {}
  },
  "language_info": {
   "name": "python"
  }
 },
 "nbformat": 4,
 "nbformat_minor": 0
}
